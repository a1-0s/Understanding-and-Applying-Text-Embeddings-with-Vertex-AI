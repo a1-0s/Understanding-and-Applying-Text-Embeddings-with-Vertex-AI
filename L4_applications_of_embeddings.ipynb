{
  "nbformat": 4,
  "nbformat_minor": 0,
  "metadata": {
    "colab": {
      "provenance": []
    },
    "kernelspec": {
      "name": "python3",
      "display_name": "Python 3"
    },
    "language_info": {
      "name": "python"
    }
  },
  "cells": [
    {
      "cell_type": "markdown",
      "source": [
        "# Lesson 4: Applications of Embeddings"
      ],
      "metadata": {
        "id": "VL1txndTN_2k"
      }
    },
    {
      "cell_type": "markdown",
      "source": [
        "**Project environment setup**"
      ],
      "metadata": {
        "id": "PjajIAhBOFhe"
      }
    },
    {
      "cell_type": "code",
      "source": [
        "from utils import authenticate\n",
        "credentials, PROJECT_ID = authenticate()"
      ],
      "metadata": {
        "id": "TxOerXIVOCxM"
      },
      "execution_count": null,
      "outputs": []
    },
    {
      "cell_type": "code",
      "source": [
        "REGION = 'us-central1'"
      ],
      "metadata": {
        "id": "HDq_s2kLOJ6E"
      },
      "execution_count": null,
      "outputs": []
    },
    {
      "cell_type": "code",
      "source": [
        "import vertexai\n",
        "vertexai.init(project=PROJECT_ID,\n",
        "              location=REGION,\n",
        "              credentials = credentials)"
      ],
      "metadata": {
        "id": "nF8GdFtPOKFf"
      },
      "execution_count": null,
      "outputs": []
    },
    {
      "cell_type": "markdown",
      "source": [
        "**Load Stack Overflow questions and answers from BigQuery**"
      ],
      "metadata": {
        "id": "lLdm5uEXORlx"
      }
    },
    {
      "cell_type": "markdown",
      "source": [
        "\n",
        "\n",
        "*   BigQuery is Google Cloud's serverless data warehouse.\n",
        "*   We'll get the first 500 posts (questions and answers) for each programming language: Python, HTML, R, and CSS\n",
        "\n"
      ],
      "metadata": {
        "id": "r3BcgEv6OWX_"
      }
    },
    {
      "cell_type": "code",
      "source": [
        "from google.cloud import bigquery\n",
        "import pandas as pd"
      ],
      "metadata": {
        "id": "6nMBuhRxOTuT"
      },
      "execution_count": null,
      "outputs": []
    },
    {
      "cell_type": "code",
      "source": [
        "def run_bq_query(sql):\n",
        "\n",
        "    # Create BQ client\n",
        "    bq_client = bigquery.Client(project = PROJECT_ID,\n",
        "                                credentials = credentials)\n",
        "\n",
        "    # Try dry run before executing query to catch any errors\n",
        "    job_config = bigquery.QueryJobConfig(dry_run=True,\n",
        "                                         use_query_cache=False)\n",
        "    bq_client.query(sql, job_config=job_config)\n",
        "\n",
        "    # If dry run succeeds without errors, proceed to run query\n",
        "    job_config = bigquery.QueryJobConfig()\n",
        "    client_result = bq_client.query(sql,\n",
        "                                    job_config=job_config)\n",
        "\n",
        "    job_id = client_result.job_id\n",
        "\n",
        "    # Wait for query/job to finish running. then get & return data frame\n",
        "    df = client_result.result().to_arrow().to_pandas()\n",
        "    print(f\"Finished job_id: {job_id}\")\n",
        "    return df"
      ],
      "metadata": {
        "id": "uwKXXNj5OibZ"
      },
      "execution_count": null,
      "outputs": []
    },
    {
      "cell_type": "code",
      "source": [
        "# define list of programming language tags we want to query\n",
        "\n",
        "language_list = [\"python\", \"html\", \"r\", \"css\"]"
      ],
      "metadata": {
        "id": "Fn8MZl34Oiig"
      },
      "execution_count": null,
      "outputs": []
    },
    {
      "cell_type": "markdown",
      "source": [
        "\n",
        "\n",
        "*   You can reuse the above code to run your own queries if you are using Google Cloud's BigQuery service.\n",
        "*   In this classroom, if you run into any issues, you can load the same data from a csv file.\n",
        "\n",
        "\n"
      ],
      "metadata": {
        "id": "5d52LgPMPPs-"
      }
    },
    {
      "cell_type": "code",
      "source": [
        "# Run this cell if you get any errors or you don't want to wait for the query to be completed\n",
        "# so_df = pd.read_csv('so_database_app.csv')"
      ],
      "metadata": {
        "id": "SiMWcU1zOvgI"
      },
      "execution_count": null,
      "outputs": []
    },
    {
      "cell_type": "code",
      "source": [
        "so_df"
      ],
      "metadata": {
        "id": "KKlJSnkvPZRD"
      },
      "execution_count": null,
      "outputs": []
    },
    {
      "cell_type": "markdown",
      "source": [
        "Generate text embeddings"
      ],
      "metadata": {
        "id": "ikZAQ5XePc0S"
      }
    },
    {
      "cell_type": "markdown",
      "source": [
        "*   To generate embeddings for a dataset of texts, we'll need to group the sentences together in batches and send batches of texts to the model.\n",
        "*   The API currently can take batches of up to 5 pieces of text per API call.\n",
        "\n"
      ],
      "metadata": {
        "id": "_WRbNLd3PdC1"
      }
    },
    {
      "cell_type": "code",
      "source": [
        "from vertexai.language_models import TextEmbeddingModel"
      ],
      "metadata": {
        "id": "5GG7ZRXaPrVH"
      },
      "execution_count": null,
      "outputs": []
    },
    {
      "cell_type": "code",
      "source": [
        "model = TextEmbeddingModel.from_pretrained(\n",
        "    \"textembedding-gecko@001\")"
      ],
      "metadata": {
        "id": "NHFgmT89PwaM"
      },
      "execution_count": null,
      "outputs": []
    },
    {
      "cell_type": "code",
      "source": [
        "import time\n",
        "import numpy as np"
      ],
      "metadata": {
        "id": "MWGstk0oPwnx"
      },
      "execution_count": null,
      "outputs": []
    },
    {
      "cell_type": "code",
      "source": [
        "# Generator function to yield batches of sentences\n",
        "\n",
        "def generate_batches(sentences, batch_size = 5):\n",
        "    for i in range(0, len(sentences), batch_size):\n",
        "        yield sentences[i : i + batch_size]"
      ],
      "metadata": {
        "id": "zwnJc1YjP2K-"
      },
      "execution_count": null,
      "outputs": []
    },
    {
      "cell_type": "code",
      "source": [
        "so_questions = so_df[0:200].input_text.tolist()\n",
        "batches = generate_batches(sentences = so_questions)"
      ],
      "metadata": {
        "id": "zlissrVBP4k_"
      },
      "execution_count": null,
      "outputs": []
    },
    {
      "cell_type": "code",
      "source": [
        "batch = next(batches)\n",
        "len(batch)"
      ],
      "metadata": {
        "id": "Wk1jjAsaP-JT"
      },
      "execution_count": null,
      "outputs": []
    },
    {
      "cell_type": "markdown",
      "source": [
        "**Get embeddings on a batch of data**"
      ],
      "metadata": {
        "id": "h-KlBy7GQCCv"
      }
    },
    {
      "cell_type": "markdown",
      "source": [
        "\n",
        "\n",
        "*   This helper function calls `model.get_embeddings()` on the batch of data, and returns a list containing the embeddings for each text in that batch.\n",
        "\n"
      ],
      "metadata": {
        "id": "EZQPYTknQCPO"
      }
    },
    {
      "cell_type": "code",
      "source": [
        "def encode_texts_to_embeddings(sentences):\n",
        "    try:\n",
        "        embeddings = model.get_embeddings(sentences)\n",
        "        return [embedding.values for embedding in embeddings]\n",
        "    except Exception:\n",
        "        return [None for _ in range(len(sentences))]"
      ],
      "metadata": {
        "id": "tnq1ryJDQPCL"
      },
      "execution_count": null,
      "outputs": []
    },
    {
      "cell_type": "code",
      "source": [
        "batch_embeddings = encode_texts_to_embeddings(batch)"
      ],
      "metadata": {
        "id": "eMWz-VB6QfIz"
      },
      "execution_count": null,
      "outputs": []
    },
    {
      "cell_type": "code",
      "source": [
        "f\"{len(batch_embeddings)} embeddings of size \\\n",
        "{len(batch_embeddings[0])}\""
      ],
      "metadata": {
        "id": "idki9Dk4QfSA"
      },
      "execution_count": null,
      "outputs": []
    },
    {
      "cell_type": "markdown",
      "source": [
        "#### Code for getting data on an entire data set\n",
        "- Most API services have rate limits, so we've provided a helper function (in utils.py) that you could use to wait in-between API calls.\n",
        "- If the code was not designed to wait in-between API calls, you may not receive embeddings for all batches of text.\n",
        "- This particular service can handle 20 calls per minute.  In calls per second, that's 20 calls divided by 60 seconds, or `20/60`.\n",
        "\n",
        "```Python\n",
        "from utils import encode_text_to_embedding_batched\n",
        "\n",
        "so_questions = so_df.input_text.tolist()\n",
        "question_embeddings = encode_text_to_embedding_batched(\n",
        "                            sentences=so_questions,\n",
        "                            api_calls_per_second = 20/60,\n",
        "                            batch_size = 5)\n",
        "```\n",
        "\n",
        "In order to handle limits of this classroom environment, we're not going to run this code to embed all of the data. But you can adapt this code for your own projects and datasets."
      ],
      "metadata": {
        "id": "sQeFwy6SQnRC"
      }
    },
    {
      "cell_type": "markdown",
      "source": [
        "#### Load the data from file\n",
        "- We'll load the stack overflow questions, answers, and category labels (Python, HTML, R, CSS) from a .csv file.\n",
        "- We'll load the embeddings of the questions (which we've precomputed with batched calls to `model.get_embeddings()`), from a pickle file."
      ],
      "metadata": {
        "id": "YnqrMBDSQnZb"
      }
    },
    {
      "cell_type": "code",
      "source": [
        "so_df = pd.read_csv('so_database_app.csv')\n",
        "so_df.head()"
      ],
      "metadata": {
        "id": "p7X3dskjQ0Ly"
      },
      "execution_count": null,
      "outputs": []
    },
    {
      "cell_type": "code",
      "source": [
        "import pickle"
      ],
      "metadata": {
        "id": "q8aG6HWtQ4j_"
      },
      "execution_count": null,
      "outputs": []
    },
    {
      "cell_type": "code",
      "source": [
        "with open('question_embeddings_app.pkl', 'rb') as file:\n",
        "    question_embeddings = pickle.load(file)"
      ],
      "metadata": {
        "id": "txN_055HQ6Wh"
      },
      "execution_count": null,
      "outputs": []
    },
    {
      "cell_type": "code",
      "source": [
        "print(\"Shape: \" + str(question_embeddings.shape))\n",
        "print(question_embeddings)"
      ],
      "metadata": {
        "id": "zvjeOHCeQ8lg"
      },
      "execution_count": null,
      "outputs": []
    },
    {
      "cell_type": "markdown",
      "source": [
        "#### Cluster the embeddings of the Stack Overflow questions"
      ],
      "metadata": {
        "id": "twbs2rmTRCn4"
      }
    },
    {
      "cell_type": "code",
      "source": [
        "from sklearn.cluster import KMeans\n",
        "from sklearn.decomposition import PCA"
      ],
      "metadata": {
        "id": "5cZp3caPRDSg"
      },
      "execution_count": null,
      "outputs": []
    },
    {
      "cell_type": "code",
      "source": [
        "clustering_dataset = question_embeddings[:1000]"
      ],
      "metadata": {
        "id": "2iMdUqhhRF-g"
      },
      "execution_count": null,
      "outputs": []
    },
    {
      "cell_type": "code",
      "source": [
        "n_clusters = 2\n",
        "kmeans = KMeans(n_clusters=n_clusters,\n",
        "                random_state=0,\n",
        "                n_init = 'auto').fit(clustering_dataset)"
      ],
      "metadata": {
        "id": "jxjQy0_ORGH1"
      },
      "execution_count": null,
      "outputs": []
    },
    {
      "cell_type": "code",
      "source": [
        "kmeans_labels = kmeans.labels_"
      ],
      "metadata": {
        "id": "2GWWO5TXRLxQ"
      },
      "execution_count": null,
      "outputs": []
    },
    {
      "cell_type": "code",
      "source": [
        "PCA_model = PCA(n_components=2)\n",
        "PCA_model.fit(clustering_dataset)\n",
        "new_values = PCA_model.transform(clustering_dataset)"
      ],
      "metadata": {
        "id": "WlMip_c5RL61"
      },
      "execution_count": null,
      "outputs": []
    },
    {
      "cell_type": "code",
      "source": [
        "import matplotlib.pyplot as plt\n",
        "import mplcursors\n",
        "%matplotlib ipympl"
      ],
      "metadata": {
        "id": "kRfuEYCzRQP_"
      },
      "execution_count": null,
      "outputs": []
    },
    {
      "cell_type": "code",
      "source": [
        "from utils import clusters_2D\n",
        "clusters_2D(x_values = new_values[:,0], y_values = new_values[:,1],\n",
        "            labels = so_df[:1000], kmeans_labels = kmeans_labels)"
      ],
      "metadata": {
        "id": "2Vw_Xd1xRS2S"
      },
      "execution_count": null,
      "outputs": []
    },
    {
      "cell_type": "markdown",
      "source": [
        "- Clustering is able to identify two distinct clusters of HTML or Python related questions, without being given the category labels (HTML or Python)."
      ],
      "metadata": {
        "id": "0dSnlbKERWTv"
      }
    },
    {
      "cell_type": "markdown",
      "source": [
        "## Anomaly / Outlier detection\n",
        "\n",
        "- We can add an anomalous piece of text and check if the outlier (anomaly) detection algorithm (Isolation Forest) can identify it as an outlier (anomaly), based on its embedding."
      ],
      "metadata": {
        "id": "Fs5tuKBqRcdl"
      }
    },
    {
      "cell_type": "code",
      "source": [
        "from sklearn.ensemble import IsolationForest"
      ],
      "metadata": {
        "id": "ic-kaFOpRZuH"
      },
      "execution_count": null,
      "outputs": []
    },
    {
      "cell_type": "code",
      "source": [
        "input_text = \"\"\"I am making cookies but don't\n",
        "                remember the correct ingredient proportions.\n",
        "                I have been unable to find\n",
        "                anything on the web.\"\"\""
      ],
      "metadata": {
        "id": "cteh66zZRkbC"
      },
      "execution_count": null,
      "outputs": []
    },
    {
      "cell_type": "code",
      "source": [
        "emb = model.get_embeddings([input_text])[0].values"
      ],
      "metadata": {
        "id": "WKTqNaZHRkg6"
      },
      "execution_count": null,
      "outputs": []
    },
    {
      "cell_type": "code",
      "source": [
        "embeddings_l = question_embeddings.tolist()\n",
        "embeddings_l.append(emb)"
      ],
      "metadata": {
        "id": "LLEV6K-nRosd"
      },
      "execution_count": null,
      "outputs": []
    },
    {
      "cell_type": "code",
      "source": [
        "embeddings_array = np.array(embeddings_l)"
      ],
      "metadata": {
        "id": "LGwBcdYmRo6Y"
      },
      "execution_count": null,
      "outputs": []
    },
    {
      "cell_type": "code",
      "source": [
        "print(\"Shape: \" + str(embeddings_array.shape))\n",
        "print(embeddings_array)"
      ],
      "metadata": {
        "id": "6U7hwCTMRuHc"
      },
      "execution_count": null,
      "outputs": []
    },
    {
      "cell_type": "code",
      "source": [
        "# Add the outlier text to the end of the stack overflow dataframe\n",
        "so_df = pd.read_csv('so_database_app.csv')\n",
        "new_row = pd.Series([input_text, None, \"baking\"],\n",
        "                    index=so_df.columns)\n",
        "so_df.loc[len(so_df)+1] = new_row\n",
        "so_df.tail()"
      ],
      "metadata": {
        "id": "EogkCCjDRucN"
      },
      "execution_count": null,
      "outputs": []
    },
    {
      "cell_type": "markdown",
      "source": [
        "#### Use Isolation Forest to identify potential outliers\n",
        "\n",
        "- `IsolationForest` classifier will predict `-1` for potential outliers, and `1` for non-outliers.\n",
        "- You can inspect the rows that were predicted to be potential outliers and verify that the question about baking is predicted to be an outlier."
      ],
      "metadata": {
        "id": "iCTKBBawR1mT"
      }
    },
    {
      "cell_type": "code",
      "source": [
        "clf = IsolationForest(contamination=0.005,\n",
        "                      random_state = 2)"
      ],
      "metadata": {
        "id": "cD-MQTVGR4Sc"
      },
      "execution_count": null,
      "outputs": []
    },
    {
      "cell_type": "code",
      "source": [
        "preds = clf.fit_predict(embeddings_array)\n",
        "\n",
        "print(f\"{len(preds)} predictions. Set of possible values: {set(preds)}\")"
      ],
      "metadata": {
        "id": "ciIg1MQWR6tt"
      },
      "execution_count": null,
      "outputs": []
    },
    {
      "cell_type": "code",
      "source": [
        "so_df.loc[preds == -1]"
      ],
      "metadata": {
        "id": "NuA0f0fLR7BS"
      },
      "execution_count": null,
      "outputs": []
    },
    {
      "cell_type": "markdown",
      "source": [
        "#### Remove the outlier about baking"
      ],
      "metadata": {
        "id": "nfJBQ9-BSEVo"
      }
    },
    {
      "cell_type": "code",
      "source": [
        "so_df = so_df.drop(so_df.index[-1])"
      ],
      "metadata": {
        "id": "HCRrCQ__SFPT"
      },
      "execution_count": null,
      "outputs": []
    },
    {
      "cell_type": "code",
      "source": [
        "so_df"
      ],
      "metadata": {
        "id": "LzTOV2ZpSH41"
      },
      "execution_count": null,
      "outputs": []
    },
    {
      "cell_type": "markdown",
      "source": [
        "## Classification\n",
        "- Train a random forest model to classify the category of a Stack Overflow question (as either Python, R, HTML or CSS)."
      ],
      "metadata": {
        "id": "1BfWRq2xSL3G"
      }
    },
    {
      "cell_type": "code",
      "source": [
        "from sklearn.ensemble import RandomForestClassifier"
      ],
      "metadata": {
        "id": "kKQkQDx_SMyz"
      },
      "execution_count": null,
      "outputs": []
    },
    {
      "cell_type": "code",
      "source": [
        "from sklearn.metrics import accuracy_score\n",
        "from sklearn.model_selection import train_test_split"
      ],
      "metadata": {
        "id": "868xQJadSQN9"
      },
      "execution_count": null,
      "outputs": []
    },
    {
      "cell_type": "code",
      "source": [
        "# re-load the dataset from file\n",
        "so_df = pd.read_csv('so_database_app.csv')\n",
        "X = question_embeddings\n",
        "X.shape"
      ],
      "metadata": {
        "id": "N_bgF_kTSTth"
      },
      "execution_count": null,
      "outputs": []
    },
    {
      "cell_type": "code",
      "source": [
        "y = so_df['category'].values\n",
        "y.shape"
      ],
      "metadata": {
        "id": "PrlJnjcwSWDE"
      },
      "execution_count": null,
      "outputs": []
    },
    {
      "cell_type": "code",
      "source": [
        "X_train, X_test, y_train, y_test = train_test_split(X,\n",
        "                                                    y,\n",
        "                                                    test_size = 0.2,\n",
        "                                                    random_state = 2)"
      ],
      "metadata": {
        "id": "0bOpEvMbSa-k"
      },
      "execution_count": null,
      "outputs": []
    },
    {
      "cell_type": "code",
      "source": [
        "clf = RandomForestClassifier(n_estimators=200)"
      ],
      "metadata": {
        "id": "iQnaSM1WSb7-"
      },
      "execution_count": null,
      "outputs": []
    },
    {
      "cell_type": "code",
      "source": [
        "clf.fit(X_train, y_train)"
      ],
      "metadata": {
        "id": "THHY60c3SeS1"
      },
      "execution_count": null,
      "outputs": []
    },
    {
      "cell_type": "markdown",
      "source": [
        "#### You can check the predictions on a few questions from the test set"
      ],
      "metadata": {
        "id": "w6FrURnOSjwf"
      }
    },
    {
      "cell_type": "code",
      "source": [
        "y_pred = clf.predict(X_test)"
      ],
      "metadata": {
        "id": "prwqvqUFSo7Z"
      },
      "execution_count": null,
      "outputs": []
    },
    {
      "cell_type": "code",
      "source": [
        "accuracy = accuracy_score(y_test, y_pred) # compute accuracy\n",
        "print(\"Accuracy:\", accuracy)"
      ],
      "metadata": {
        "id": "p0Mwc-m9SrzY"
      },
      "execution_count": null,
      "outputs": []
    },
    {
      "cell_type": "markdown",
      "source": [
        "#### Try out the classifier on some questions"
      ],
      "metadata": {
        "id": "XOsM7LLiSuuF"
      }
    },
    {
      "cell_type": "code",
      "source": [
        "# choose a number between 0 and 1999\n",
        "i = 2\n",
        "label = so_df.loc[i,'category']\n",
        "question = so_df.loc[i,'input_text']\n",
        "\n",
        "# get the embedding of this question and predict its category\n",
        "question_embedding = model.get_embeddings([question])[0].values\n",
        "pred = clf.predict([question_embedding])\n",
        "\n",
        "print(f\"For question {i}, the prediction is `{pred[0]}`\")\n",
        "print(f\"The actual label is `{label}`\")\n",
        "print(\"The question text is:\")\n",
        "print(\"-\"*50)\n",
        "print(question)"
      ],
      "metadata": {
        "id": "xbd43hdXSxhy"
      },
      "execution_count": null,
      "outputs": []
    }
  ]
}