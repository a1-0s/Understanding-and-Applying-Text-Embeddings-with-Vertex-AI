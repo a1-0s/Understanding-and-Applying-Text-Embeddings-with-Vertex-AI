{
  "nbformat": 4,
  "nbformat_minor": 0,
  "metadata": {
    "colab": {
      "provenance": []
    },
    "kernelspec": {
      "name": "python3",
      "display_name": "Python 3"
    },
    "language_info": {
      "name": "python"
    }
  },
  "cells": [
    {
      "cell_type": "markdown",
      "source": [
        "## Lesson 6: Semantic Search, Building a Q&A System"
      ],
      "metadata": {
        "id": "G1n4prL3gxii"
      }
    },
    {
      "cell_type": "markdown",
      "source": [
        "#### Project environment setup\n",
        "\n",
        "- Load credentials and relevant Python Libraries"
      ],
      "metadata": {
        "id": "zOPAPj_Lg1yE"
      }
    },
    {
      "cell_type": "code",
      "source": [
        "from utils import authenticate\n",
        "credentials, PROJECT_ID = authenticate()"
      ],
      "metadata": {
        "id": "7dVpEM6dgzOg"
      },
      "execution_count": null,
      "outputs": []
    },
    {
      "cell_type": "markdown",
      "source": [
        "#### Enter project details"
      ],
      "metadata": {
        "id": "h3Bk0HAKg5Vm"
      }
    },
    {
      "cell_type": "code",
      "source": [
        "REGION = 'us-central1'"
      ],
      "metadata": {
        "id": "TbQBUOsKg7Rs"
      },
      "execution_count": null,
      "outputs": []
    },
    {
      "cell_type": "code",
      "source": [
        "import vertexai\n",
        "vertexai.init(project=PROJECT_ID, location=REGION, credentials = credentials)"
      ],
      "metadata": {
        "id": "rUJAFHgNg9yb"
      },
      "execution_count": null,
      "outputs": []
    },
    {
      "cell_type": "markdown",
      "source": [
        "## Load Stack Overflow questions and answers from BigQuery"
      ],
      "metadata": {
        "id": "yFOgZVl7hCpA"
      }
    },
    {
      "cell_type": "code",
      "source": [
        "import pandas as pd"
      ],
      "metadata": {
        "id": "bDQ1B21hhDko"
      },
      "execution_count": null,
      "outputs": []
    },
    {
      "cell_type": "code",
      "source": [
        "so_database = pd.read_csv('so_database_app.csv')"
      ],
      "metadata": {
        "id": "zSgl5D1YhH8N"
      },
      "execution_count": null,
      "outputs": []
    },
    {
      "cell_type": "code",
      "source": [
        "print(\"Shape: \" + str(so_database.shape))\n",
        "print(so_database)"
      ],
      "metadata": {
        "id": "-fLPaCmyhMat"
      },
      "execution_count": null,
      "outputs": []
    },
    {
      "cell_type": "markdown",
      "source": [
        "## Load the question embeddings"
      ],
      "metadata": {
        "id": "kbkm1c_OhQys"
      }
    },
    {
      "cell_type": "code",
      "source": [
        "from vertexai.language_models import TextEmbeddingModel"
      ],
      "metadata": {
        "id": "dNrjmWIshRlN"
      },
      "execution_count": null,
      "outputs": []
    },
    {
      "cell_type": "code",
      "source": [
        "embedding_model = TextEmbeddingModel.from_pretrained(\n",
        "    \"textembedding-gecko@001\")"
      ],
      "metadata": {
        "id": "YGS4P2KchWE7"
      },
      "execution_count": null,
      "outputs": []
    },
    {
      "cell_type": "code",
      "source": [
        "import numpy as np\n",
        "from utils import encode_text_to_embedding_batched"
      ],
      "metadata": {
        "id": "uiWmIi9HhWK9"
      },
      "execution_count": null,
      "outputs": []
    },
    {
      "cell_type": "markdown",
      "source": [
        "- Here is the code that embeds the text.  You can adapt it for use in your own projects.  \n",
        "- To save on API calls, we've embedded the text already, so you can load it from the saved file in the next cell.\n",
        "\n",
        "```Python\n",
        "# Encode the stack overflow data\n",
        "\n",
        "so_questions = so_database.input_text.tolist()\n",
        "question_embeddings = encode_text_to_embedding_batched(\n",
        "            sentences = so_questions,\n",
        "            api_calls_per_second = 20/60,\n",
        "            batch_size = 5)\n",
        "```"
      ],
      "metadata": {
        "id": "Kga5EX04hqjV"
      }
    },
    {
      "cell_type": "code",
      "source": [
        "import pickle\n",
        "with open('question_embeddings_app.pkl', 'rb') as file:\n",
        "\n",
        "    # Call load method to deserialze\n",
        "    question_embeddings = pickle.load(file)\n",
        "\n",
        "    print(question_embeddings)"
      ],
      "metadata": {
        "id": "FJpa-iW9htki"
      },
      "execution_count": null,
      "outputs": []
    },
    {
      "cell_type": "code",
      "source": [
        "so_database['embeddings'] = question_embeddings.tolist()"
      ],
      "metadata": {
        "id": "4Trg4XNEhxhe"
      },
      "execution_count": null,
      "outputs": []
    },
    {
      "cell_type": "code",
      "source": [
        "so_database"
      ],
      "metadata": {
        "id": "m6ONuGvchxum"
      },
      "execution_count": null,
      "outputs": []
    },
    {
      "cell_type": "markdown",
      "source": [
        "## Semantic Search\n",
        "\n",
        "When a user asks a question, we can embed their query on the fly and search over all of the Stack Overflow question embeddings to find the most simliar datapoint."
      ],
      "metadata": {
        "id": "GkcH2UCzh6ft"
      }
    },
    {
      "cell_type": "code",
      "source": [
        "import numpy as np\n",
        "\n",
        "from sklearn.metrics.pairwise import cosine_similarity\n",
        "from sklearn.metrics import pairwise_distances_argmin as distances_argmin"
      ],
      "metadata": {
        "id": "BRzUXcefh7ZX"
      },
      "execution_count": null,
      "outputs": []
    },
    {
      "cell_type": "code",
      "source": [
        "query = ['How to concat dataframes pandas']"
      ],
      "metadata": {
        "id": "kI1_Cbp2iEyF"
      },
      "execution_count": null,
      "outputs": []
    },
    {
      "cell_type": "code",
      "source": [
        "query_embedding = embedding_model.get_embeddings(query)[0].values"
      ],
      "metadata": {
        "id": "g3P8MaSciH2t"
      },
      "execution_count": null,
      "outputs": []
    },
    {
      "cell_type": "code",
      "source": [
        "cos_sim_array = cosine_similarity([query_embedding],\n",
        "                                  list(so_database.embeddings.values))"
      ],
      "metadata": {
        "id": "h9CfqE6RiLjz"
      },
      "execution_count": null,
      "outputs": []
    },
    {
      "cell_type": "code",
      "source": [
        "cos_sim_array.shape"
      ],
      "metadata": {
        "id": "ndJxOMfSiSVp"
      },
      "execution_count": null,
      "outputs": []
    },
    {
      "cell_type": "markdown",
      "source": [
        "Once we have a similarity value between our query embedding and each of the database embeddings, we can extract the index with the highest value. This embedding corresponds to the Stack Overflow post that is most similiar to the question \"How to concat dataframes pandas\"."
      ],
      "metadata": {
        "id": "AR-va2uXiW6T"
      }
    },
    {
      "cell_type": "code",
      "source": [
        "index_doc_cosine = np.argmax(cos_sim_array)"
      ],
      "metadata": {
        "id": "SS6CEbcIiWOl"
      },
      "execution_count": null,
      "outputs": []
    },
    {
      "cell_type": "code",
      "source": [
        "index_doc_distances = distances_argmin([query_embedding],\n",
        "                                       list(so_database.embeddings.values))[0]"
      ],
      "metadata": {
        "id": "cA-YAKpMicG4"
      },
      "execution_count": null,
      "outputs": []
    },
    {
      "cell_type": "code",
      "source": [
        "so_database.input_text[index_doc_cosine]"
      ],
      "metadata": {
        "id": "RaDm5jUpicS_"
      },
      "execution_count": null,
      "outputs": []
    },
    {
      "cell_type": "code",
      "source": [
        "so_database.input_text[index_doc_cosine]"
      ],
      "metadata": {
        "id": "P8tDKCaeicr5"
      },
      "execution_count": null,
      "outputs": []
    },
    {
      "cell_type": "markdown",
      "source": [
        "## Question answering with relevant context\n",
        "\n",
        "Now that we have found the most simliar Stack Overflow question, we can take the corresponding answer and use an LLM to produce a more conversational response."
      ],
      "metadata": {
        "id": "tLJdRofdiphD"
      }
    },
    {
      "cell_type": "code",
      "source": [
        "from vertexai.language_models import TextGenerationModel"
      ],
      "metadata": {
        "id": "6s-TepA7iqPz"
      },
      "execution_count": null,
      "outputs": []
    },
    {
      "cell_type": "code",
      "source": [
        "generation_model = TextGenerationModel.from_pretrained(\n",
        "    \"text-bison@001\")"
      ],
      "metadata": {
        "id": "NNy85zcoit6Y"
      },
      "execution_count": null,
      "outputs": []
    },
    {
      "cell_type": "code",
      "source": [
        "context = \"Question: \" + so_database.input_text[index_doc_cosine] +\\\n",
        "\"\\n Answer: \" + so_database.output_text[index_doc_cosine]"
      ],
      "metadata": {
        "id": "kK4AvDGViuF9"
      },
      "execution_count": null,
      "outputs": []
    },
    {
      "cell_type": "code",
      "source": [
        "prompt = f\"\"\"Here is the context: {context}\n",
        "             Using the relevant information from the context,\n",
        "             provide an answer to the query: {query}.\"\n",
        "             If the context doesn't provide \\\n",
        "             any relevant information, \\\n",
        "             answer with \\\n",
        "             [I couldn't find a good match in the \\\n",
        "             document database for your query]\n",
        "             \"\"\""
      ],
      "metadata": {
        "id": "BI8OwtC-iuWq"
      },
      "execution_count": null,
      "outputs": []
    },
    {
      "cell_type": "code",
      "source": [
        "from IPython.display import Markdown, display\n",
        "\n",
        "t_value = 0.2\n",
        "response = generation_model.predict(prompt = prompt,\n",
        "                                    temperature = t_value,\n",
        "                                    max_output_tokens = 1024)\n",
        "\n",
        "display(Markdown(response.text))"
      ],
      "metadata": {
        "id": "jQU-RETDi3Xd"
      },
      "execution_count": null,
      "outputs": []
    },
    {
      "cell_type": "markdown",
      "source": [
        "## When the documents don't provide useful information\n",
        "\n",
        "Our current workflow returns the most similar question from our embeddings database. But what do we do when that question isn't actually relevant when answering the user query? In other words, we don't have a good match in our database.\n",
        "\n",
        "In addition to providing a more conversational response, LLMs can help us handle these cases where the most similiar document isn't actually a reasonable answer to the user's query."
      ],
      "metadata": {
        "id": "_gDjU_ETis_I"
      }
    },
    {
      "cell_type": "code",
      "source": [
        "query = ['How to make the perfect lasagna']"
      ],
      "metadata": {
        "id": "eC5ibSAei-qY"
      },
      "execution_count": null,
      "outputs": []
    },
    {
      "cell_type": "code",
      "source": [
        "query_embedding = embedding_model.get_embeddings(query)[0].values"
      ],
      "metadata": {
        "id": "jYqaBL-Xk6R-"
      },
      "execution_count": null,
      "outputs": []
    },
    {
      "cell_type": "code",
      "source": [
        "cos_sim_array = cosine_similarity([query_embedding],\n",
        "                                  list(so_database.embeddings.values))"
      ],
      "metadata": {
        "id": "86GCTy_Fk6X0"
      },
      "execution_count": null,
      "outputs": []
    },
    {
      "cell_type": "code",
      "source": [
        "cos_sim_array"
      ],
      "metadata": {
        "id": "l34mP-rxk6uF"
      },
      "execution_count": null,
      "outputs": []
    },
    {
      "cell_type": "code",
      "source": [
        "index_doc = np.argmax(cos_sim_array)"
      ],
      "metadata": {
        "id": "umr1cQOwlDxK"
      },
      "execution_count": null,
      "outputs": []
    },
    {
      "cell_type": "code",
      "source": [
        "context = so_database.input_text[index_doc] + \\\n",
        "\"\\n Answer: \" + so_database.output_text[index_doc]"
      ],
      "metadata": {
        "id": "0rU8hdO4lD74"
      },
      "execution_count": null,
      "outputs": []
    },
    {
      "cell_type": "code",
      "source": [
        "prompt = f\"\"\"Here is the context: {context}\n",
        "             Using the relevant information from the context,\n",
        "             provide an answer to the query: {query}.\"\n",
        "             If the context doesn't provide \\\n",
        "             any relevant information, answer with\n",
        "             [I couldn't find a good match in the \\\n",
        "             document database for your query]\n",
        "             \"\"\""
      ],
      "metadata": {
        "id": "5NNeB7AhlHCS"
      },
      "execution_count": null,
      "outputs": []
    },
    {
      "cell_type": "code",
      "source": [
        "t_value = 0.2\n",
        "response = generation_model.predict(prompt = prompt,\n",
        "                                    temperature = t_value,\n",
        "                                    max_output_tokens = 1024)\n",
        "display(Markdown(response.text))"
      ],
      "metadata": {
        "id": "kUTQdHpflHPm"
      },
      "execution_count": null,
      "outputs": []
    },
    {
      "cell_type": "markdown",
      "source": [
        "## Scale with approximate nearest neighbor search\n",
        "\n",
        "When dealing with a large dataset, computing the similarity between the query and each original embedded document in the database might be too expensive. Instead of doing that, you can use approximate nearest neighbor algorithms that find the most similar documents in a more efficient way.\n",
        "\n",
        "These algorithms usually work by creating an index for your data, and using that index to find the most similar documents for your queries. In this notebook, we will use ScaNN to demonstrate the benefits of efficient vector similarity search. First, you have to create an index for your embedded dataset."
      ],
      "metadata": {
        "id": "eUyd-fX1lNRk"
      }
    },
    {
      "cell_type": "code",
      "source": [
        "import scann\n",
        "from utils import create_index\n",
        "\n",
        "#Create index using scann\n",
        "index = create_index(embedded_dataset = question_embeddings,\n",
        "                     num_leaves = 25,\n",
        "                     num_leaves_to_search = 10,\n",
        "                     training_sample_size = 2000)"
      ],
      "metadata": {
        "id": "ldfsHR9SlP_h"
      },
      "execution_count": null,
      "outputs": []
    },
    {
      "cell_type": "code",
      "source": [
        "query = \"how to concat dataframes pandas\""
      ],
      "metadata": {
        "id": "cCH3Yd0XlV4Z"
      },
      "execution_count": null,
      "outputs": []
    },
    {
      "cell_type": "code",
      "source": [
        "import time\n",
        "\n",
        "start = time.time()\n",
        "query_embedding = embedding_model.get_embeddings([query])[0].values\n",
        "neighbors, distances = index.search(query_embedding, final_num_neighbors = 1)\n",
        "end = time.time()\n",
        "\n",
        "for id, dist in zip(neighbors, distances):\n",
        "    print(f\"[docid:{id}] [{dist}] -- {so_database.input_text[int(id)][:125]}...\")\n",
        "\n",
        "print(\"Latency (ms):\", 1000 * (end - start))"
      ],
      "metadata": {
        "id": "NV5QzdVxlWH2"
      },
      "execution_count": null,
      "outputs": []
    },
    {
      "cell_type": "code",
      "source": [
        "start = time.time()\n",
        "query_embedding = embedding_model.get_embeddings([query])[0].values\n",
        "cos_sim_array = cosine_similarity([query_embedding], list(so_database.embeddings.values))\n",
        "index_doc = np.argmax(cos_sim_array)\n",
        "end = time.time()\n",
        "\n",
        "print(f\"[docid:{index_doc}] [{np.max(cos_sim_array)}] -- {so_database.input_text[int(index_doc)][:125]}...\")\n",
        "\n",
        "print(\"Latency (ms):\", 1000 * (end - start))"
      ],
      "metadata": {
        "id": "4Hc6jlNvldRP"
      },
      "execution_count": null,
      "outputs": []
    }
  ]
}